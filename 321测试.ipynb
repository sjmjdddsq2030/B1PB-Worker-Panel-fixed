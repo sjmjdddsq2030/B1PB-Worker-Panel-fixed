{
  "nbformat": 4,
  "nbformat_minor": 0,
  "metadata": {
    "colab": {
      "provenance": [],
      "authorship_tag": "ABX9TyNxUjoxPoPY3knSR/8Jgq9b",
      "include_colab_link": true
    },
    "kernelspec": {
      "name": "python3",
      "display_name": "Python 3"
    },
    "language_info": {
      "name": "python"
    }
  },
  "cells": [
    {
      "cell_type": "markdown",
      "metadata": {
        "id": "view-in-github",
        "colab_type": "text"
      },
      "source": [
        "<a href=\"https://colab.research.google.com/github/sjmjdddsq2030/B1PB-Worker-Panel-fixed/blob/main/321%E6%B5%8B%E8%AF%95.ipynb\" target=\"_parent\"><img src=\"https://colab.research.google.com/assets/colab-badge.svg\" alt=\"Open In Colab\"/></a>"
      ]
    },
    {
      "cell_type": "code",
      "execution_count": 226,
      "metadata": {
        "colab": {
          "base_uri": "https://localhost:8080/"
        },
        "id": "8PjsF1OOOLMK",
        "outputId": "2188130b-40a4-4c41-a1af-bd6c17343af9"
      },
      "outputs": [
        {
          "output_type": "stream",
          "name": "stdout",
          "text": [
            "Requirement already satisfied: pytest in /usr/local/lib/python3.11/dist-packages (8.3.5)\n",
            "Requirement already satisfied: pytest-cov in /usr/local/lib/python3.11/dist-packages (6.0.0)\n",
            "Requirement already satisfied: iniconfig in /usr/local/lib/python3.11/dist-packages (from pytest) (2.0.0)\n",
            "Requirement already satisfied: packaging in /usr/local/lib/python3.11/dist-packages (from pytest) (24.2)\n",
            "Requirement already satisfied: pluggy<2,>=1.5 in /usr/local/lib/python3.11/dist-packages (from pytest) (1.5.0)\n",
            "Requirement already satisfied: coverage>=7.5 in /usr/local/lib/python3.11/dist-packages (from coverage[toml]>=7.5->pytest-cov) (7.7.0)\n"
          ]
        }
      ],
      "source": [
        "pip install pytest pytest-cov  # 安装pytest及测试覆盖率插件"
      ]
    },
    {
      "cell_type": "code",
      "source": [
        "import unittest\n",
        "from sklearn.preprocessing import StandardScaler\n",
        "from sklearn.impute import SimpleImputer\n",
        "import numpy as np\n",
        "\n",
        "def preprocess_data(raw_data):\n",
        "    # 步骤1：填充缺失值\n",
        "    imputer = SimpleImputer(strategy='mean')\n",
        "    data_imputed = imputer.fit_transform(raw_data)\n",
        "    # 步骤2：标准化\n",
        "    scaler = StandardScaler()\n",
        "    data_scaled = scaler.fit_transform(data_imputed)\n",
        "    return data_scaled\n",
        "\n",
        "class TestDataPreprocessing(unittest.TestCase):\n",
        "    def test_missing_value_handling(self):\n",
        "        \"\"\"独立测试缺失值填充（不含标准化）\"\"\"\n",
        "        raw_data = [[1, np.nan], [np.nan, 3]]\n",
        "        imputer = SimpleImputer(strategy='mean')\n",
        "        data_imputed = imputer.fit_transform(raw_data)\n",
        "        # 验证填充后的值\n",
        "        self.assertTrue(np.array_equal(data_imputed, [[1, 3], [1, 3]]))\n",
        "\n",
        "    def test_feature_scaling(self):\n",
        "        \"\"\"测试标准化（输入无缺失值）\"\"\"\n",
        "        raw_data = [[10], [20], [30]]\n",
        "        scaler = StandardScaler()\n",
        "        scaled = scaler.fit_transform(raw_data)\n",
        "        self.assertAlmostEqual(scaled.mean(), 0, delta=0.01)\n",
        "        self.assertAlmostEqual(scaled.std(), 1, delta=0.01)\n",
        "\n",
        "if __name__ == '__main__':\n",
        "    suite = unittest.TestLoader().loadTestsFromTestCase(TestDataPreprocessing)\n",
        "    unittest.TextTestRunner().run(suite)"
      ],
      "metadata": {
        "colab": {
          "base_uri": "https://localhost:8080/"
        },
        "id": "4v3d4CD-QtOI",
        "outputId": "d6720e55-9a3d-4ad1-939e-d7c03d46175d"
      },
      "execution_count": 227,
      "outputs": [
        {
          "output_type": "stream",
          "name": "stderr",
          "text": [
            "..\n",
            "----------------------------------------------------------------------\n",
            "Ran 2 tests in 0.006s\n",
            "\n",
            "OK\n"
          ]
        }
      ]
    },
    {
      "cell_type": "code",
      "source": [
        "import unittest\n",
        "from unittest.mock import patch\n",
        "from sklearn.model_selection import train_test_split\n",
        "from xgboost import XGBClassifier\n",
        "import numpy as np\n",
        "\n",
        "# 虚拟数据集函数\n",
        "def load_dataset():\n",
        "    X = np.array([[1,2], [3,4], [5,6], [7,8]])\n",
        "    y = np.array([0, 1, 0, 1])\n",
        "    return X, y\n",
        "\n",
        "class TestModelTraining(unittest.TestCase):\n",
        "    @patch('xgboost.XGBClassifier.fit')\n",
        "    def test_model_initialization(self, mock_fit):\n",
        "        \"\"\"验证模型参数初始化\"\"\"\n",
        "        model = XGBClassifier(max_depth=3, n_estimators=100)\n",
        "        model.fit([[1,2], [3,4]], [0,1])\n",
        "        self.assertEqual(model.max_depth, 3)\n",
        "\n",
        "    def test_train_test_split(self):\n",
        "        \"\"\"数据划分完整性验证\"\"\"\n",
        "        X, y = load_dataset()\n",
        "        X_train, X_test, _, _ = train_test_split(X, y, test_size=0.25)\n",
        "        self.assertEqual(len(X_train) + len(X_test), len(X))\n",
        "\n",
        "# 运行所有测试\n",
        "if __name__ == '__main__':\n",
        "    # Jupyter 环境下需配置 argv 和 exit=False\n",
        "    unittest.main(argv=['ignored', '-v'], exit=False)"
      ],
      "metadata": {
        "colab": {
          "base_uri": "https://localhost:8080/"
        },
        "id": "cxQpBjnRTya8",
        "outputId": "2f2f5d83-c345-4aa4-fb12-1e984b288ddb"
      },
      "execution_count": 249,
      "outputs": [
        {
          "output_type": "stream",
          "name": "stderr",
          "text": [
            "test_feature_scaling (__main__.TestDataPreprocessing.test_feature_scaling)\n",
            "测试标准化过程 ... ok\n",
            "test_missing_value_handling (__main__.TestDataPreprocessing.test_missing_value_handling)\n",
            "测试缺失值填充逻辑 ... ok\n",
            "test_something (__main__.TestModel.test_something) ... ok\n",
            "test_model_initialization (__main__.TestModelTraining.test_model_initialization)\n",
            "验证模型参数初始化 ... ok\n",
            "test_train_test_split (__main__.TestModelTraining.test_train_test_split)\n",
            "数据划分完整性验证 ... ok\n",
            "test_model_prediction (__main__.TestPredictionLogic.test_model_prediction)\n",
            "验证输入4个特征 → Pipeline处理后为2个 → 预测成功 ... ok\n",
            "\n",
            "----------------------------------------------------------------------\n",
            "Ran 6 tests in 0.023s\n",
            "\n",
            "OK\n"
          ]
        },
        {
          "output_type": "stream",
          "name": "stdout",
          "text": [
            "被选中的特征索引: [1 3]\n"
          ]
        }
      ]
    },
    {
      "cell_type": "code",
      "source": [
        "from sklearn.linear_model import LogisticRegression\n",
        "import joblib\n",
        "\n",
        "# 生成示例模型并保存\n",
        "model = LogisticRegression()\n",
        "model.fit([[1,2], [3,4]], [0,1])  # 使用虚拟数据训练\n",
        "joblib.dump(model, 'pretrained_model.pkl')"
      ],
      "metadata": {
        "colab": {
          "base_uri": "https://localhost:8080/"
        },
        "id": "V3WR5A-GWTsa",
        "outputId": "0630b5ec-577e-4c81-cf7e-0adbc70b50f5"
      },
      "execution_count": 231,
      "outputs": [
        {
          "output_type": "execute_result",
          "data": {
            "text/plain": [
              "['pretrained_model.pkl']"
            ]
          },
          "metadata": {},
          "execution_count": 231
        }
      ]
    },
    {
      "cell_type": "code",
      "source": [
        "import os\n",
        "print(os.path.exists('pretrained_model.pkl'))  # 应输出 True"
      ],
      "metadata": {
        "colab": {
          "base_uri": "https://localhost:8080/"
        },
        "id": "Sxcyr8rWWuTY",
        "outputId": "79583940-39f9-4989-d1ed-add3a14e804d"
      },
      "execution_count": 232,
      "outputs": [
        {
          "output_type": "stream",
          "name": "stdout",
          "text": [
            "True\n"
          ]
        }
      ]
    },
    {
      "cell_type": "code",
      "source": [
        "loaded_model = joblib.load('pretrained_model.pkl')\n",
        "print(loaded_model.predict([[1, 2]]))  # 应输出 [0]"
      ],
      "metadata": {
        "colab": {
          "base_uri": "https://localhost:8080/"
        },
        "id": "fpKJSJI_WyZz",
        "outputId": "56f3af00-d07e-4d7d-cb80-70bdc12e84be"
      },
      "execution_count": 233,
      "outputs": [
        {
          "output_type": "stream",
          "name": "stdout",
          "text": [
            "[0]\n"
          ]
        }
      ]
    },
    {
      "cell_type": "code",
      "source": [
        "# 检查包是否已安装\n",
        "!pip list | grep \"pytest\\|joblib\"\n",
        "\n",
        "# 检查模型文件是否存在\n",
        "import os\n",
        "print(\"模型文件存在:\", os.path.exists('pretrained_model.pkl'))"
      ],
      "metadata": {
        "colab": {
          "base_uri": "https://localhost:8080/"
        },
        "id": "hnTMfNOHAoX5",
        "outputId": "5b2d00f8-dc9a-47a8-c94d-8c05118b214e"
      },
      "execution_count": 234,
      "outputs": [
        {
          "output_type": "stream",
          "name": "stdout",
          "text": [
            "joblib                             1.4.2\n",
            "pytest                             8.3.5\n",
            "pytest-cov                         6.0.0\n",
            "模型文件存在: True\n"
          ]
        }
      ]
    },
    {
      "cell_type": "code",
      "source": [
        "import os\n",
        "\n",
        "# 检查Colab本地模型文件\n",
        "print(\"Colab本地模型存在:\", os.path.exists(\"/content/pretrained_model.pkl\"))\n",
        "\n",
        "# 检查Drive中的模型文件\n",
        "print(\"Drive模型存在:\", os.path.exists(\"/content/drive/MyDrive/pretrained_model.pkl\"))\n",
        "\n",
        "# 检查测试脚本（以321测试.ipynb为例）\n",
        "print(\"测试脚本存在:\", os.path.exists(\"/content/drive/MyDrive/Colab Notebooks/321测试.ipynb\"))"
      ],
      "metadata": {
        "colab": {
          "base_uri": "https://localhost:8080/"
        },
        "id": "ahUbdNwlHL_J",
        "outputId": "05909c19-27fa-4a86-88db-a91372b46e00"
      },
      "execution_count": 235,
      "outputs": [
        {
          "output_type": "stream",
          "name": "stdout",
          "text": [
            "Colab本地模型存在: True\n",
            "Drive模型存在: True\n",
            "测试脚本存在: True\n"
          ]
        }
      ]
    },
    {
      "cell_type": "code",
      "source": [
        "import pathlib\n",
        "test_path = pathlib.Path('tests/test_model.py').absolute()\n",
        "print(\"测试文件绝对路径:\", test_path)"
      ],
      "metadata": {
        "colab": {
          "base_uri": "https://localhost:8080/"
        },
        "id": "VSUEF5P7N9xe",
        "outputId": "96aaa496-50b1-4d4a-f44c-303c22052afe"
      },
      "execution_count": 236,
      "outputs": [
        {
          "output_type": "stream",
          "name": "stdout",
          "text": [
            "测试文件绝对路径: /content/tests/test_model.py\n"
          ]
        }
      ]
    },
    {
      "cell_type": "code",
      "source": [
        "!pytest -v \"/content/drive/MyDrive/Colab Notebooks/test_model.py\""
      ],
      "metadata": {
        "colab": {
          "base_uri": "https://localhost:8080/"
        },
        "id": "W4cwIM-pn37C",
        "outputId": "e5b21907-0bfa-4cb5-e2d3-4c8531d9b377"
      },
      "execution_count": 237,
      "outputs": [
        {
          "output_type": "stream",
          "name": "stdout",
          "text": [
            "\u001b[1m======================================= test session starts ========================================\u001b[0m\n",
            "platform linux -- Python 3.11.11, pytest-8.3.5, pluggy-1.5.0 -- /usr/bin/python3\n",
            "cachedir: .pytest_cache\n",
            "rootdir: /content\n",
            "plugins: cov-6.0.0, anyio-4.9.0, typeguard-4.4.2, langsmith-0.3.15\n",
            "\u001b[1mcollecting ... \u001b[0m\u001b[1m\rcollected 1 item                                                                                   \u001b[0m\n",
            "\n",
            "drive/MyDrive/Colab Notebooks/test_model.py::TestModel::test_sample \u001b[32mPASSED\u001b[0m\u001b[32m                   [100%]\u001b[0m\n",
            "\n",
            "\u001b[32m======================================== \u001b[32m\u001b[1m1 passed\u001b[0m\u001b[32m in 0.06s\u001b[0m\u001b[32m =========================================\u001b[0m\n"
          ]
        }
      ]
    },
    {
      "cell_type": "code",
      "source": [
        "!python \"/content/drive/MyDrive/Colab Notebooks/test_model.py\""
      ],
      "metadata": {
        "colab": {
          "base_uri": "https://localhost:8080/"
        },
        "id": "A4_AxveCpPOJ",
        "outputId": "daf080e3-553e-4ca1-e269-c96903ed227f"
      },
      "execution_count": 238,
      "outputs": [
        {
          "output_type": "stream",
          "name": "stdout",
          "text": [
            ".\n",
            "----------------------------------------------------------------------\n",
            "Ran 1 test in 0.000s\n",
            "\n",
            "OK\n"
          ]
        }
      ]
    },
    {
      "source": [
        "# 示例：训练时使用特征选择器（假设保留2个特征）\n",
        "from sklearn.feature_selection import SelectKBest\n",
        "import numpy as np  # 导入numpy\n",
        "\n",
        "# 定义示例数据\n",
        "X_train_raw = np.array([[1, 2, 3], [4, 5, 6], [7, 8, 9]])\n",
        "y_train = np.array([0, 1, 0])\n",
        "\n",
        "print(\"Before feature selection: X_train_raw shape =\", X_train_raw.shape)  # Added print statement\n",
        "\n",
        "selector = SelectKBest(k=2)\n",
        "X_train = selector.fit_transform(X_train_raw, y_train)\n",
        "\n",
        "print(\"After feature selection: X_train shape =\", X_train.shape)  # Added print statement\n",
        "\n",
        "# 测试时需应用同一选择器\n",
        "# 假设 X_test_raw 也已定义\n",
        "X_test_raw = np.array([[10, 11, 12], [13, 14, 15]])\n",
        "X_test = selector.transform(X_test_raw)  # 必须用transform，非fit_transform\n",
        "\n",
        "print(\"Transformed X_test shape =\", X_test.shape)  # Added print statement"
      ],
      "cell_type": "code",
      "metadata": {
        "colab": {
          "base_uri": "https://localhost:8080/"
        },
        "id": "Uc9QDMH0uHlE",
        "outputId": "10d234db-7585-4d28-8c99-bcc74259947e"
      },
      "execution_count": 239,
      "outputs": [
        {
          "output_type": "stream",
          "name": "stdout",
          "text": [
            "Before feature selection: X_train_raw shape = (3, 3)\n",
            "After feature selection: X_train shape = (3, 2)\n",
            "Transformed X_test shape = (2, 2)\n"
          ]
        }
      ]
    },
    {
      "cell_type": "code",
      "source": [
        "from sklearn.pipeline import make_pipeline\n",
        "\n",
        "pipeline = make_pipeline(\n",
        "    StandardScaler(),  # 预处理步骤\n",
        "    SelectKBest(k=2),  # 特征选择步骤\n",
        "    LogisticRegression()  # 模型\n",
        ")\n",
        "\n",
        "pipeline.fit(X_train_raw, y_train)  # 训练时自动处理数据\n",
        "pipeline.predict(X_test_raw)  # 预测时自动复用相同预处理"
      ],
      "metadata": {
        "colab": {
          "base_uri": "https://localhost:8080/"
        },
        "id": "mxoeXcOvuVzy",
        "outputId": "673e8948-f4f7-4248-f332-17977e5135d7"
      },
      "execution_count": 240,
      "outputs": [
        {
          "output_type": "execute_result",
          "data": {
            "text/plain": [
              "array([0, 0])"
            ]
          },
          "metadata": {},
          "execution_count": 240
        }
      ]
    },
    {
      "cell_type": "code",
      "source": [
        "# ✅ 正确加载并使用\n",
        "loaded_pipeline = joblib.load('full_pipeline.pkl')\n",
        "\n",
        "# 输入原始数据（4个特征），Pipeline会自动处理成2个特征\n",
        "X_test_raw = [[1.5, 0.7, 10, 8]]  # 4个特征\n",
        "result = loaded_pipeline.predict(X_test_raw)\n",
        "print(result)  # 输出预测结果"
      ],
      "metadata": {
        "colab": {
          "base_uri": "https://localhost:8080/"
        },
        "id": "sl_Ks9C7wC5p",
        "outputId": "0c199fce-0cb3-4dd6-d37d-cdd67951d3ff"
      },
      "execution_count": 241,
      "outputs": [
        {
          "output_type": "stream",
          "name": "stdout",
          "text": [
            "[1]\n"
          ]
        }
      ]
    },
    {
      "cell_type": "code",
      "source": [
        "from sklearn.pipeline import Pipeline\n",
        "from sklearn.feature_selection import SelectKBest\n",
        "from sklearn.linear_model import LogisticRegression\n",
        "\n",
        "pipeline = Pipeline([\n",
        "    ('selector', SelectKBest(k=2)),\n",
        "    ('model', LogisticRegression())\n",
        "])\n",
        "pipeline.fit([[1.2, 0.8, 12, 5], [2.1, 1.5, 10, 8]], [0, 1])\n",
        "joblib.dump(pipeline, 'full_pipeline.pkl')"
      ],
      "metadata": {
        "colab": {
          "base_uri": "https://localhost:8080/"
        },
        "id": "3lo38fE_w6yI",
        "outputId": "4826d245-8874-4b7e-a6d6-8097f356dbc1"
      },
      "execution_count": 242,
      "outputs": [
        {
          "output_type": "stream",
          "name": "stderr",
          "text": [
            "/usr/local/lib/python3.11/dist-packages/sklearn/feature_selection/_univariate_selection.py:108: RuntimeWarning: invalid value encountered in divide\n",
            "  msw = sswn / float(dfwn)\n"
          ]
        },
        {
          "output_type": "execute_result",
          "data": {
            "text/plain": [
              "['full_pipeline.pkl']"
            ]
          },
          "metadata": {},
          "execution_count": 242
        }
      ]
    },
    {
      "source": [
        "!python -m pytest /content/drive/MyDrive/Colab\\ Notebooks/test_model.py -vv  # 替换为实际测试文件路径"
      ],
      "cell_type": "code",
      "metadata": {
        "colab": {
          "base_uri": "https://localhost:8080/"
        },
        "id": "qxK53yULxUbl",
        "outputId": "43e2485c-cef3-4c93-88ad-46e918bb8397"
      },
      "execution_count": 243,
      "outputs": [
        {
          "output_type": "stream",
          "name": "stdout",
          "text": [
            "\u001b[1m======================================= test session starts ========================================\u001b[0m\n",
            "platform linux -- Python 3.11.11, pytest-8.3.5, pluggy-1.5.0 -- /usr/bin/python3\n",
            "cachedir: .pytest_cache\n",
            "rootdir: /content\n",
            "plugins: cov-6.0.0, anyio-4.9.0, typeguard-4.4.2, langsmith-0.3.15\n",
            "\u001b[1mcollecting ... \u001b[0m\u001b[1m\rcollected 1 item                                                                                   \u001b[0m\n",
            "\n",
            "drive/MyDrive/Colab Notebooks/test_model.py::TestModel::test_sample \u001b[32mPASSED\u001b[0m\u001b[32m                   [100%]\u001b[0m\n",
            "\n",
            "\u001b[32m======================================== \u001b[32m\u001b[1m1 passed\u001b[0m\u001b[32m in 0.04s\u001b[0m\u001b[32m =========================================\u001b[0m\n"
          ]
        }
      ]
    },
    {
      "cell_type": "code",
      "source": [
        "from sklearn.pipeline import Pipeline\n",
        "from sklearn.preprocessing import StandardScaler\n",
        "from sklearn.feature_selection import SelectKBest, VarianceThreshold\n",
        "from sklearn.linear_model import LogisticRegression\n",
        "import joblib\n",
        "\n",
        "# 定义Pipeline\n",
        "pipeline = Pipeline([\n",
        "    ('variance_filter', VarianceThreshold(threshold=0)),  # 过滤零方差特征\n",
        "    ('scaler', StandardScaler()),                         # 标准化\n",
        "    ('selector', SelectKBest(k=2)),                       # 选择2个特征\n",
        "    ('model', LogisticRegression())                       # 模型\n",
        "])\n",
        "\n",
        "# 示例训练数据（4个特征）\n",
        "X_train_raw = [[1.2, 0.8, 12, 5], [2.1, 1.5, 10, 8], [3.0, 2.0, 8, 6]]\n",
        "y_train = [0, 1, 0]\n",
        "\n",
        "# 训练并保存Pipeline\n",
        "pipeline.fit(X_train_raw, y_train)\n",
        "joblib.dump(pipeline, 'full_pipeline.pkl')\n",
        "\n",
        "# 验证训练后特征数\n",
        "selector = pipeline.named_steps['selector']\n",
        "print(\"训练时选择的特征数:\", sum(selector.get_support()))  # 应为2"
      ],
      "metadata": {
        "colab": {
          "base_uri": "https://localhost:8080/"
        },
        "id": "jvKLxfwH1nC6",
        "outputId": "15ed07d7-d666-42c7-c9ed-9099a47761d2"
      },
      "execution_count": 244,
      "outputs": [
        {
          "output_type": "stream",
          "name": "stdout",
          "text": [
            "训练时选择的特征数: 2\n"
          ]
        }
      ]
    },
    {
      "cell_type": "code",
      "source": [
        "# 在Colab中运行\n",
        "!python -m pytest test_model.py -vv\n",
        "\n",
        "# 预期输出\n",
        "# 在Colab中运行\n",
        "!python -m pytest test_model.py -vv"
      ],
      "metadata": {
        "colab": {
          "base_uri": "https://localhost:8080/"
        },
        "id": "M6IRxaDY1xj_",
        "outputId": "e0854d9a-8673-4b1d-c3f5-3b206be09ac7"
      },
      "execution_count": 245,
      "outputs": [
        {
          "output_type": "stream",
          "name": "stdout",
          "text": [
            "\u001b[1m======================================= test session starts ========================================\u001b[0m\n",
            "platform linux -- Python 3.11.11, pytest-8.3.5, pluggy-1.5.0 -- /usr/bin/python3\n",
            "cachedir: .pytest_cache\n",
            "rootdir: /content\n",
            "plugins: cov-6.0.0, anyio-4.9.0, typeguard-4.4.2, langsmith-0.3.15\n",
            "\u001b[1mcollecting ... \u001b[0m\u001b[1m\rcollected 1 item                                                                                   \u001b[0m\n",
            "\n",
            "test_model.py::TestModel::test_sample \u001b[32mPASSED\u001b[0m\u001b[32m                                                 [100%]\u001b[0m\n",
            "\n",
            "\u001b[32m======================================== \u001b[32m\u001b[1m1 passed\u001b[0m\u001b[32m in 0.01s\u001b[0m\u001b[32m =========================================\u001b[0m\n",
            "\u001b[1m======================================= test session starts ========================================\u001b[0m\n",
            "platform linux -- Python 3.11.11, pytest-8.3.5, pluggy-1.5.0 -- /usr/bin/python3\n",
            "cachedir: .pytest_cache\n",
            "rootdir: /content\n",
            "plugins: cov-6.0.0, anyio-4.9.0, typeguard-4.4.2, langsmith-0.3.15\n",
            "collected 1 item                                                                                   \u001b[0m\n",
            "\n",
            "test_model.py::TestModel::test_sample \u001b[32mPASSED\u001b[0m\u001b[32m                                                 [100%]\u001b[0m\n",
            "\n",
            "\u001b[32m======================================== \u001b[32m\u001b[1m1 passed\u001b[0m\u001b[32m in 0.01s\u001b[0m\u001b[32m =========================================\u001b[0m\n"
          ]
        }
      ]
    },
    {
      "source": [
        "from sklearn.pipeline import Pipeline\n",
        "from sklearn.preprocessing import StandardScaler\n",
        "from sklearn.feature_selection import VarianceThreshold, SelectKBest\n",
        "from sklearn.linear_model import LogisticRegression\n",
        "import joblib\n",
        "\n",
        "# 定义Pipeline\n",
        "pipeline = Pipeline([\n",
        "    ('variance_filter', VarianceThreshold(threshold=0)),  # 过滤零方差特征\n",
        "    ('scaler', StandardScaler()),                         # 标准化\n",
        "    ('selector', SelectKBest(k=2)),                       # 选择2个特征\n",
        "    ('model', LogisticRegression())                       # 模型\n",
        "])\n",
        "\n",
        "# 示例训练数据（4个特征）\n",
        "X_train_raw = [[1.2, 0.8, 12, 5], [2.1, 1.5, 10, 8], [3.0, 2.0, 8, 6]]\n",
        "y_train = [0, 1, 0]\n",
        "\n",
        "# 训练并保存Pipeline\n",
        "pipeline.fit(X_train_raw, y_train)\n",
        "joblib.dump(pipeline, 'full_pipeline.pkl')\n",
        "\n",
        "# 验证输出维度\n",
        "test_sample = [[1.2, 0.8, 12, 5]]\n",
        "\n",
        "# Instead of pipeline.transform, use pipeline.predict_proba or pipeline.decision_function\n",
        "# if you want to see the intermediate output after the 'selector' step:\n",
        "\n",
        "# Option 1: Get probabilities (for classification)\n",
        "probabilities = pipeline.predict_proba(test_sample)\n",
        "print(\"模型输出概率:\", probabilities.shape)  # Output shape will depend on the number of classes\n",
        "\n",
        "# Option 2: Get decision function values (for classification)\n",
        "decision_values = pipeline.decision_function(test_sample)\n",
        "print(\"模型输出决策值:\", decision_values.shape)  # Output shape will be (1,) for binary classification\n",
        "\n",
        "# Option 3: Access the transformed data directly (less common)\n",
        "transformed_data = pipeline[:-1].transform(test_sample) # Access all steps except the last one\n",
        "print(\"模型输入维度:\", transformed_data.shape)  # This should print (1, 2)"
      ],
      "cell_type": "code",
      "metadata": {
        "colab": {
          "base_uri": "https://localhost:8080/"
        },
        "id": "frsfAitw3-3s",
        "outputId": "c6484d9b-38e0-4312-88ea-ea44b6c852b1"
      },
      "execution_count": 168,
      "outputs": [
        {
          "output_type": "stream",
          "name": "stdout",
          "text": [
            "模型输出概率: (1, 2)\n",
            "模型输出决策值: (1,)\n",
            "模型输入维度: (1, 2)\n"
          ]
        }
      ]
    },
    {
      "cell_type": "code",
      "source": [
        "from sklearn.pipeline import Pipeline\n",
        "from sklearn.preprocessing import StandardScaler\n",
        "from sklearn.feature_selection import SelectKBest, VarianceThreshold\n",
        "from sklearn.linear_model import LogisticRegression\n",
        "import joblib\n",
        "\n",
        "# 定义Pipeline\n",
        "pipeline = Pipeline([\n",
        "    ('variance_filter', VarianceThreshold(threshold=0)),  # 过滤零方差特征\n",
        "    ('scaler', StandardScaler()),                         # 标准化\n",
        "    ('selector', SelectKBest(k=2)),                       # 选择2个特征\n",
        "    ('model', LogisticRegression())                       # 模型\n",
        "])\n",
        "\n",
        "# 示例训练数据（4个特征）\n",
        "X_train_raw = [[1.2, 0.8, 12, 5], [2.1, 1.5, 10, 8], [3.0, 2.0, 8, 6]]\n",
        "y_train = [0, 1, 0]\n",
        "\n",
        "# 训练并保存Pipeline\n",
        "pipeline.fit(X_train_raw, y_train)\n",
        "joblib.dump(pipeline, 'full_pipeline.pkl')\n",
        "\n",
        "# 验证训练后特征数\n",
        "selector = pipeline.named_steps['selector']\n",
        "print(\"训练时选择的特征数:\", sum(selector.get_support()))  # 应为2"
      ],
      "metadata": {
        "colab": {
          "base_uri": "https://localhost:8080/"
        },
        "id": "o9w0N_ow47li",
        "outputId": "d2bab81f-72b4-4eb8-ad97-e725b40c11c8"
      },
      "execution_count": 174,
      "outputs": [
        {
          "output_type": "stream",
          "name": "stdout",
          "text": [
            "训练时选择的特征数: 2\n"
          ]
        }
      ]
    },
    {
      "source": [
        "import unittest\n",
        "import joblib\n",
        "import numpy as np\n",
        "\n",
        "class TestPredictionLogic(unittest.TestCase):\n",
        "    def setUp(self):\n",
        "        \"\"\"加载Pipeline并验证特征处理流程\"\"\"\n",
        "        try:\n",
        "            self.pipeline = joblib.load('full_pipeline.pkl')\n",
        "            # 检查关键步骤是否存在\n",
        "            self.assertIn('selector', self.pipeline.named_steps, \"Pipeline缺少selector步骤\")\n",
        "            # 打印被选中的特征索引\n",
        "            selector = self.pipeline.named_steps['selector']\n",
        "            selected_indices = np.where(selector.get_support())[0]\n",
        "            print(\"被选中的特征索引:\", selected_indices)  # 应为类似 [0, 2]\n",
        "        except Exception as e:\n",
        "            self.fail(f\"Pipeline加载失败: {str(e)}\")\n",
        "\n",
        "    def test_model_prediction(self):\n",
        "        \"\"\"验证输入4个特征 → Pipeline处理后为2个 → 预测成功\"\"\"\n",
        "        test_input = [[1.2, 0.8, 12, 5]]  # 输入4个特征\n",
        "        result = self.pipeline.predict(test_input)\n",
        "        self.assertIsInstance(result, np.ndarray)\n",
        "        # Check for shape and data type instead of specific values\n",
        "        self.assertEqual(result.shape, (1,)) # Assuming you expect a single prediction\n",
        "        self.assertEqual(result.dtype, int) # or np.int64 if necessary\n",
        "        # optionally, if you know the possible range of your prediction, add assertions:\n",
        "        # self.assertTrue(np.all(result >= 0))\n",
        "        # self.assertTrue(np.all(result < num_classes)) # Where num_classes is the number of classes\n",
        "\n",
        "if __name__ == '__main__':\n",
        "    unittest.main(argv=['ignored', '-v'], exit=False)"
      ],
      "cell_type": "code",
      "metadata": {
        "colab": {
          "base_uri": "https://localhost:8080/"
        },
        "id": "zWru6XNV6R2r",
        "outputId": "aa8b3a4c-daa9-48d7-e9db-3c4f0ee24b53"
      },
      "execution_count": 247,
      "outputs": [
        {
          "output_type": "stream",
          "name": "stderr",
          "text": [
            "test_feature_scaling (__main__.TestDataPreprocessing.test_feature_scaling)\n",
            "测试标准化过程 ... ok\n",
            "test_missing_value_handling (__main__.TestDataPreprocessing.test_missing_value_handling)\n",
            "测试缺失值填充逻辑 ... ok\n",
            "test_something (__main__.TestModel.test_something) ... ok\n",
            "test_model_initialization (__main__.TestModelTraining.test_model_initialization)\n",
            "验证模型参数初始化 ... ok\n",
            "test_train_test_split (__main__.TestModelTraining.test_train_test_split)\n",
            "数据划分完整性验证 ... ok\n",
            "test_model_prediction (__main__.TestPredictionLogic.test_model_prediction)\n",
            "验证输入4个特征 → Pipeline处理后为2个 → 预测成功 ... ok\n",
            "\n",
            "----------------------------------------------------------------------\n",
            "Ran 6 tests in 0.021s\n",
            "\n",
            "OK\n"
          ]
        },
        {
          "output_type": "stream",
          "name": "stdout",
          "text": [
            "被选中的特征索引: [1 3]\n"
          ]
        }
      ]
    }
  ]
}